{
 "cells": [
  {
   "cell_type": "code",
   "execution_count": 4,
   "id": "72e7409f",
   "metadata": {},
   "outputs": [
    {
     "name": "stdout",
     "output_type": "stream",
     "text": [
      "shape: (7043, 21)\n"
     ]
    },
    {
     "data": {
      "text/html": [
       "<div>\n",
       "<style scoped>\n",
       "    .dataframe tbody tr th:only-of-type {\n",
       "        vertical-align: middle;\n",
       "    }\n",
       "\n",
       "    .dataframe tbody tr th {\n",
       "        vertical-align: top;\n",
       "    }\n",
       "\n",
       "    .dataframe thead th {\n",
       "        text-align: right;\n",
       "    }\n",
       "</style>\n",
       "<table border=\"1\" class=\"dataframe\">\n",
       "  <thead>\n",
       "    <tr style=\"text-align: right;\">\n",
       "      <th></th>\n",
       "      <th>customerID</th>\n",
       "      <th>gender</th>\n",
       "      <th>SeniorCitizen</th>\n",
       "      <th>Partner</th>\n",
       "      <th>Dependents</th>\n",
       "      <th>tenure</th>\n",
       "      <th>PhoneService</th>\n",
       "      <th>MultipleLines</th>\n",
       "      <th>InternetService</th>\n",
       "      <th>OnlineSecurity</th>\n",
       "      <th>...</th>\n",
       "      <th>DeviceProtection</th>\n",
       "      <th>TechSupport</th>\n",
       "      <th>StreamingTV</th>\n",
       "      <th>StreamingMovies</th>\n",
       "      <th>Contract</th>\n",
       "      <th>PaperlessBilling</th>\n",
       "      <th>PaymentMethod</th>\n",
       "      <th>MonthlyCharges</th>\n",
       "      <th>TotalCharges</th>\n",
       "      <th>Churn</th>\n",
       "    </tr>\n",
       "  </thead>\n",
       "  <tbody>\n",
       "    <tr>\n",
       "      <th>0</th>\n",
       "      <td>7590-VHVEG</td>\n",
       "      <td>Female</td>\n",
       "      <td>0</td>\n",
       "      <td>Yes</td>\n",
       "      <td>No</td>\n",
       "      <td>1</td>\n",
       "      <td>No</td>\n",
       "      <td>No phone service</td>\n",
       "      <td>DSL</td>\n",
       "      <td>No</td>\n",
       "      <td>...</td>\n",
       "      <td>No</td>\n",
       "      <td>No</td>\n",
       "      <td>No</td>\n",
       "      <td>No</td>\n",
       "      <td>Month-to-month</td>\n",
       "      <td>Yes</td>\n",
       "      <td>Electronic check</td>\n",
       "      <td>29.85</td>\n",
       "      <td>29.85</td>\n",
       "      <td>No</td>\n",
       "    </tr>\n",
       "    <tr>\n",
       "      <th>1</th>\n",
       "      <td>5575-GNVDE</td>\n",
       "      <td>Male</td>\n",
       "      <td>0</td>\n",
       "      <td>No</td>\n",
       "      <td>No</td>\n",
       "      <td>34</td>\n",
       "      <td>Yes</td>\n",
       "      <td>No</td>\n",
       "      <td>DSL</td>\n",
       "      <td>Yes</td>\n",
       "      <td>...</td>\n",
       "      <td>Yes</td>\n",
       "      <td>No</td>\n",
       "      <td>No</td>\n",
       "      <td>No</td>\n",
       "      <td>One year</td>\n",
       "      <td>No</td>\n",
       "      <td>Mailed check</td>\n",
       "      <td>56.95</td>\n",
       "      <td>1889.5</td>\n",
       "      <td>No</td>\n",
       "    </tr>\n",
       "    <tr>\n",
       "      <th>2</th>\n",
       "      <td>3668-QPYBK</td>\n",
       "      <td>Male</td>\n",
       "      <td>0</td>\n",
       "      <td>No</td>\n",
       "      <td>No</td>\n",
       "      <td>2</td>\n",
       "      <td>Yes</td>\n",
       "      <td>No</td>\n",
       "      <td>DSL</td>\n",
       "      <td>Yes</td>\n",
       "      <td>...</td>\n",
       "      <td>No</td>\n",
       "      <td>No</td>\n",
       "      <td>No</td>\n",
       "      <td>No</td>\n",
       "      <td>Month-to-month</td>\n",
       "      <td>Yes</td>\n",
       "      <td>Mailed check</td>\n",
       "      <td>53.85</td>\n",
       "      <td>108.15</td>\n",
       "      <td>Yes</td>\n",
       "    </tr>\n",
       "    <tr>\n",
       "      <th>3</th>\n",
       "      <td>7795-CFOCW</td>\n",
       "      <td>Male</td>\n",
       "      <td>0</td>\n",
       "      <td>No</td>\n",
       "      <td>No</td>\n",
       "      <td>45</td>\n",
       "      <td>No</td>\n",
       "      <td>No phone service</td>\n",
       "      <td>DSL</td>\n",
       "      <td>Yes</td>\n",
       "      <td>...</td>\n",
       "      <td>Yes</td>\n",
       "      <td>Yes</td>\n",
       "      <td>No</td>\n",
       "      <td>No</td>\n",
       "      <td>One year</td>\n",
       "      <td>No</td>\n",
       "      <td>Bank transfer (automatic)</td>\n",
       "      <td>42.30</td>\n",
       "      <td>1840.75</td>\n",
       "      <td>No</td>\n",
       "    </tr>\n",
       "    <tr>\n",
       "      <th>4</th>\n",
       "      <td>9237-HQITU</td>\n",
       "      <td>Female</td>\n",
       "      <td>0</td>\n",
       "      <td>No</td>\n",
       "      <td>No</td>\n",
       "      <td>2</td>\n",
       "      <td>Yes</td>\n",
       "      <td>No</td>\n",
       "      <td>Fiber optic</td>\n",
       "      <td>No</td>\n",
       "      <td>...</td>\n",
       "      <td>No</td>\n",
       "      <td>No</td>\n",
       "      <td>No</td>\n",
       "      <td>No</td>\n",
       "      <td>Month-to-month</td>\n",
       "      <td>Yes</td>\n",
       "      <td>Electronic check</td>\n",
       "      <td>70.70</td>\n",
       "      <td>151.65</td>\n",
       "      <td>Yes</td>\n",
       "    </tr>\n",
       "  </tbody>\n",
       "</table>\n",
       "<p>5 rows × 21 columns</p>\n",
       "</div>"
      ],
      "text/plain": [
       "   customerID  gender  SeniorCitizen Partner Dependents  tenure PhoneService  \\\n",
       "0  7590-VHVEG  Female              0     Yes         No       1           No   \n",
       "1  5575-GNVDE    Male              0      No         No      34          Yes   \n",
       "2  3668-QPYBK    Male              0      No         No       2          Yes   \n",
       "3  7795-CFOCW    Male              0      No         No      45           No   \n",
       "4  9237-HQITU  Female              0      No         No       2          Yes   \n",
       "\n",
       "      MultipleLines InternetService OnlineSecurity  ... DeviceProtection  \\\n",
       "0  No phone service             DSL             No  ...               No   \n",
       "1                No             DSL            Yes  ...              Yes   \n",
       "2                No             DSL            Yes  ...               No   \n",
       "3  No phone service             DSL            Yes  ...              Yes   \n",
       "4                No     Fiber optic             No  ...               No   \n",
       "\n",
       "  TechSupport StreamingTV StreamingMovies        Contract PaperlessBilling  \\\n",
       "0          No          No              No  Month-to-month              Yes   \n",
       "1          No          No              No        One year               No   \n",
       "2          No          No              No  Month-to-month              Yes   \n",
       "3         Yes          No              No        One year               No   \n",
       "4          No          No              No  Month-to-month              Yes   \n",
       "\n",
       "               PaymentMethod MonthlyCharges  TotalCharges Churn  \n",
       "0           Electronic check          29.85         29.85    No  \n",
       "1               Mailed check          56.95        1889.5    No  \n",
       "2               Mailed check          53.85        108.15   Yes  \n",
       "3  Bank transfer (automatic)          42.30       1840.75    No  \n",
       "4           Electronic check          70.70        151.65   Yes  \n",
       "\n",
       "[5 rows x 21 columns]"
      ]
     },
     "metadata": {},
     "output_type": "display_data"
    },
    {
     "name": "stdout",
     "output_type": "stream",
     "text": [
      "\n",
      "column info\n",
      "<class 'pandas.core.frame.DataFrame'>\n",
      "RangeIndex: 7043 entries, 0 to 7042\n",
      "Data columns (total 21 columns):\n",
      " #   Column            Non-Null Count  Dtype  \n",
      "---  ------            --------------  -----  \n",
      " 0   customerID        7043 non-null   object \n",
      " 1   gender            7043 non-null   object \n",
      " 2   SeniorCitizen     7043 non-null   int64  \n",
      " 3   Partner           7043 non-null   object \n",
      " 4   Dependents        7043 non-null   object \n",
      " 5   tenure            7043 non-null   int64  \n",
      " 6   PhoneService      7043 non-null   object \n",
      " 7   MultipleLines     7043 non-null   object \n",
      " 8   InternetService   7043 non-null   object \n",
      " 9   OnlineSecurity    7043 non-null   object \n",
      " 10  OnlineBackup      7043 non-null   object \n",
      " 11  DeviceProtection  7043 non-null   object \n",
      " 12  TechSupport       7043 non-null   object \n",
      " 13  StreamingTV       7043 non-null   object \n",
      " 14  StreamingMovies   7043 non-null   object \n",
      " 15  Contract          7043 non-null   object \n",
      " 16  PaperlessBilling  7043 non-null   object \n",
      " 17  PaymentMethod     7043 non-null   object \n",
      " 18  MonthlyCharges    7043 non-null   float64\n",
      " 19  TotalCharges      7043 non-null   object \n",
      " 20  Churn             7043 non-null   object \n",
      "dtypes: float64(1), int64(2), object(18)\n",
      "memory usage: 1.1+ MB\n",
      "None\n"
     ]
    }
   ],
   "source": [
    "#task 3:predicting customer churn -logictics regression\n",
    "import pandas as pd\n",
    "# Load dataset\n",
    "df = pd.read_csv(\"data/WA_Fn-UseC_-Telco-Customer-Churn.csv\")\n",
    "\n",
    "print(\"shape:\",df.shape)\n",
    "display(df.head())\n",
    "print(\"\\ncolumn info\")\n",
    "print(df.info())\n",
    "\n"
   ]
  },
  {
   "cell_type": "code",
   "execution_count": 5,
   "id": "6053d984",
   "metadata": {},
   "outputs": [
    {
     "name": "stdout",
     "output_type": "stream",
     "text": [
      "Shape after preprocessing: (7032, 30)\n"
     ]
    }
   ],
   "source": [
    "# Step 2: Preprocessing\n",
    "\n",
    "# Drop customerID column (not useful for modeling)\n",
    "df = df.drop(\"customerID\", axis=1)\n",
    "\n",
    "# Convert TotalCharges to numeric (some non-numeric values -> coerce them)\n",
    "df[\"TotalCharges\"] = pd.to_numeric(df[\"TotalCharges\"], errors=\"coerce\")\n",
    "\n",
    "# Handle missing values (drop rows with NaN after conversion)\n",
    "df = df.dropna()\n",
    "\n",
    "# Separate features (X) and target (y)\n",
    "X = df.drop(\"Churn\", axis=1)\n",
    "y = df[\"Churn\"]\n",
    "\n",
    "# Convert categorical variables using One-Hot Encoding\n",
    "X = pd.get_dummies(X, drop_first=True)\n",
    "\n",
    "print(\"Shape after preprocessing:\", X.shape)\n"
   ]
  },
  {
   "cell_type": "code",
   "execution_count": 7,
   "id": "9d44a738",
   "metadata": {},
   "outputs": [
    {
     "name": "stdout",
     "output_type": "stream",
     "text": [
      "Training set: (5625, 30) Testing set: (1407, 30)\n"
     ]
    }
   ],
   "source": [
    "# Step 3: Train-Test Split\n",
    "\n",
    "from sklearn.model_selection import train_test_split\n",
    "\n",
    "X_train, X_test, y_train, y_test = train_test_split(\n",
    "    X, y, test_size=0.2, random_state=42, stratify=y\n",
    ")\n",
    "\n",
    "print(\"Training set:\", X_train.shape, \"Testing set:\", X_test.shape)\n"
   ]
  },
  {
   "cell_type": "code",
   "execution_count": 12,
   "id": "fbcc58db",
   "metadata": {},
   "outputs": [
    {
     "name": "stdout",
     "output_type": "stream",
     "text": [
      "Predictions: ['No' 'Yes' 'No' 'No' 'No' 'No' 'No' 'No' 'Yes' 'No']\n"
     ]
    }
   ],
   "source": [
    "# Step 4: Logistic Regression Model\n",
    "\n",
    "from sklearn.linear_model import LogisticRegression\n",
    "\n",
    "# Create and train model\n",
    "log_reg = LogisticRegression(max_iter=8000,solver='liblinear') \n",
    "log_reg.fit(X_train, y_train)\n",
    "\n",
    "# Predict on test set\n",
    "y_pred = log_reg.predict(X_test)\n",
    "print(\"Predictions:\", y_pred[:10])\n"
   ]
  },
  {
   "cell_type": "code",
   "execution_count": 13,
   "id": "d84006f0",
   "metadata": {},
   "outputs": [
    {
     "name": "stdout",
     "output_type": "stream",
     "text": [
      "Accuracy: 0.80\n"
     ]
    },
    {
     "data": {
      "text/plain": [
       "<sklearn.metrics._plot.confusion_matrix.ConfusionMatrixDisplay at 0x21841733770>"
      ]
     },
     "execution_count": 13,
     "metadata": {},
     "output_type": "execute_result"
    },
    {
     "data": {
      "image/png": "[encoded data removed]",
      "text/plain": [
       "<Figure size 640x480 with 2 Axes>"
      ]
     },
     "metadata": {},
     "output_type": "display_data"
    }
   ],
   "source": [
    "# Step 5: Model Evaluation\n",
    "\n",
    "from sklearn.metrics import accuracy_score, confusion_matrix, ConfusionMatrixDisplay\n",
    "\n",
    "# Accuracy\n",
    "acc = accuracy_score(y_test, y_pred)\n",
    "print(f\"Accuracy: {acc:.2f}\")\n",
    "\n",
    "# Confusion matrix\n",
    "cm = confusion_matrix(y_test, y_pred, labels=[\"No\", \"Yes\"])\n",
    "disp = ConfusionMatrixDisplay(confusion_matrix=cm, display_labels=[\"No Churn\", \"Churn\"])\n",
    "disp.plot(cmap=\"Blues\")\n"
   ]
  },
  {
   "cell_type": "code",
   "execution_count": 19,
   "id": "03d71c77",
   "metadata": {},
   "outputs": [],
   "source": [
    "# Cell A - imports & helper\n",
    "import numpy as np\n",
    "import pandas as pd\n",
    "import matplotlib.pyplot as plt\n",
    "\n",
    "from sklearn.preprocessing import StandardScaler\n",
    "from sklearn.pipeline import Pipeline\n",
    "from sklearn.ensemble import RandomForestClassifier\n",
    "from sklearn.metrics import (\n",
    "    accuracy_score, precision_score, recall_score, f1_score,\n",
    "    classification_report, confusion_matrix, roc_auc_score, roc_curve\n",
    ")\n",
    "from sklearn.model_selection import GridSearchCV\n",
    "\n",
    "# XGBoost\n",
    "try:\n",
    "    from xgboost import XGBClassifier\n",
    "except Exception as e:\n",
    "    print(\"xgboost not installed or import failed:\", e)\n",
    "\n",
    "# helper to print metrics for a model\n",
    "def evaluate_model(name, y_true, y_pred, y_proba=None):\n",
    "    acc = accuracy_score(y_true, y_pred)\n",
    "    prec = precision_score(y_true, y_pred, pos_label=\"Yes\")\n",
    "    rec = recall_score(y_true, y_pred, pos_label=\"Yes\")\n",
    "    f1 = f1_score(y_true, y_pred, pos_label=\"Yes\")\n",
    "    print(f\"--- {name} ---\")\n",
    "    print(f\"Accuracy: {acc:.4f}\")\n",
    "    print(f\"Precision (Churn=Yes): {prec:.4f}\")\n",
    "    print(f\"Recall    (Churn=Yes): {rec:.4f}\")\n",
    "    print(f\"F1-score  (Churn=Yes): {f1:.4f}\")\n",
    "    if y_proba is not None:\n",
    "        try:\n",
    "            auc = roc_auc_score((y_true == \"Yes\").astype(int), y_proba)\n",
    "            print(f\"ROC-AUC  : {auc:.4f}\")\n",
    "        except Exception:\n",
    "            pass\n",
    "    print(\"\\nConfusion Matrix:\")\n",
    "    cm = confusion_matrix(y_true, y_pred, labels=[\"No\", \"Yes\"])\n",
    "    print(pd.DataFrame(cm, index=[\"Actual_No\",\"Actual_Yes\"], columns=[\"Pred_No\",\"Pred_Yes\"]))\n",
    "    print(\"\\n\")\n",
    "    return {\"model\": name, \"accuracy\": acc, \"precision\": prec, \"recall\": rec, \"f1\": f1}\n"
   ]
  },
  {
   "cell_type": "code",
   "execution_count": 20,
   "id": "1675a3a2",
   "metadata": {},
   "outputs": [
    {
     "name": "stdout",
     "output_type": "stream",
     "text": [
      "Scaled shapes: (5625, 30) (1407, 30)\n"
     ]
    }
   ],
   "source": [
    "# Cell B - Scaling\n",
    "scaler = StandardScaler()\n",
    "\n",
    "# If X_train / X_test are DataFrames (they should be), fit/transform preserving columns\n",
    "X_train_scaled = pd.DataFrame(scaler.fit_transform(X_train), columns=X_train.columns, index=X_train.index)\n",
    "X_test_scaled  = pd.DataFrame(scaler.transform(X_test),  columns=X_test.columns,  index=X_test.index)\n",
    "\n",
    "print(\"Scaled shapes:\", X_train_scaled.shape, X_test_scaled.shape)\n"
   ]
  },
  {
   "cell_type": "code",
   "execution_count": 21,
   "id": "85e8a5cd",
   "metadata": {},
   "outputs": [
    {
     "name": "stdout",
     "output_type": "stream",
     "text": [
      "--- Random Forest (baseline) ---\n",
      "Accuracy: 0.7868\n",
      "Precision (Churn=Yes): 0.6225\n",
      "Recall    (Churn=Yes): 0.5027\n",
      "F1-score  (Churn=Yes): 0.5562\n",
      "ROC-AUC  : 0.8172\n",
      "\n",
      "Confusion Matrix:\n",
      "            Pred_No  Pred_Yes\n",
      "Actual_No       919       114\n",
      "Actual_Yes      186       188\n",
      "\n",
      "\n"
     ]
    },
    {
     "data": {
      "image/png": "[encoded data removed]",
      "text/plain": [
       "<Figure size 800x600 with 1 Axes>"
      ]
     },
     "metadata": {},
     "output_type": "display_data"
    }
   ],
   "source": [
    "# Cell C - Random Forest baseline\n",
    "rf = RandomForestClassifier(n_estimators=200, random_state=42, n_jobs=-1)\n",
    "rf.fit(X_train_scaled, y_train)\n",
    "\n",
    "y_pred_rf = rf.predict(X_test_scaled)\n",
    "# For ROC-AUC, get probability for positive class\n",
    "y_proba_rf = rf.predict_proba(X_test_scaled)[:, 1]  # probability of class 'Yes' (may be index 1)\n",
    "\n",
    "rf_metrics = evaluate_model(\"Random Forest (baseline)\", y_test, y_pred_rf, y_proba_rf)\n",
    "\n",
    "# Feature importance (top 15)\n",
    "importances = pd.Series(rf.feature_importances_, index=X_train.columns).sort_values(ascending=False).head(15)\n",
    "plt.figure(figsize=(8,6))\n",
    "importances.plot(kind=\"barh\")\n",
    "plt.gca().invert_yaxis()\n",
    "plt.title(\"Top 15 Feature Importances - Random Forest\")\n",
    "plt.show()\n"
   ]
  },
  {
   "cell_type": "code",
   "execution_count": 22,
   "id": "cf16b4a7",
   "metadata": {},
   "outputs": [
    {
     "name": "stdout",
     "output_type": "stream",
     "text": [
      "Fitting 3 folds for each of 12 candidates, totalling 36 fits\n"
     ]
    },
    {
     "name": "stderr",
     "output_type": "stream",
     "text": [
      "d:\\desktop\\ML_project\\venv\\Lib\\site-packages\\sklearn\\model_selection\\_search.py:1135: UserWarning: One or more of the test scores are non-finite: [nan nan nan nan nan nan nan nan nan nan nan nan]\n",
      "  warnings.warn(\n"
     ]
    },
    {
     "name": "stdout",
     "output_type": "stream",
     "text": [
      "Best RF params: {'max_depth': None, 'min_samples_split': 2, 'n_estimators': 200}\n",
      "--- Random Forest (GridSearch) ---\n",
      "Accuracy: 0.7868\n",
      "Precision (Churn=Yes): 0.6225\n",
      "Recall    (Churn=Yes): 0.5027\n",
      "F1-score  (Churn=Yes): 0.5562\n",
      "ROC-AUC  : 0.8172\n",
      "\n",
      "Confusion Matrix:\n",
      "            Pred_No  Pred_Yes\n",
      "Actual_No       919       114\n",
      "Actual_Yes      186       188\n",
      "\n",
      "\n"
     ]
    }
   ],
   "source": [
    "# Cell D - RF Grid Search (optional, time-consuming)\n",
    "param_grid = {\n",
    "    \"n_estimators\": [200, 400],\n",
    "    \"max_depth\": [None, 8, 16],\n",
    "    \"min_samples_split\": [2, 5],\n",
    "}\n",
    "grid = GridSearchCV(RandomForestClassifier(random_state=42, n_jobs=-1),\n",
    "                    param_grid, cv=3, scoring=\"f1\", n_jobs=-1, verbose=1)\n",
    "grid.fit(X_train_scaled, y_train)\n",
    "print(\"Best RF params:\", grid.best_params_)\n",
    "best_rf = grid.best_estimator_\n",
    "\n",
    "y_pred_rf_gs = best_rf.predict(X_test_scaled)\n",
    "y_proba_rf_gs = best_rf.predict_proba(X_test_scaled)[:,1]\n",
    "rf_gs_metrics = evaluate_model(\"Random Forest (GridSearch)\", y_test, y_pred_rf_gs, y_proba_rf_gs)\n"
   ]
  },
  {
   "cell_type": "code",
   "execution_count": 25,
   "id": "790ea550",
   "metadata": {},
   "outputs": [
    {
     "name": "stdout",
     "output_type": "stream",
     "text": [
      "Encoded y values (train): [0 1]\n",
      "Encoded y values (test): [0 1]\n"
     ]
    }
   ],
   "source": [
    "# Encode target variable for XGBoost\n",
    "y_train_enc = (y_train == \"Yes\").astype(int)\n",
    "y_test_enc = (y_test == \"Yes\").astype(int)\n",
    "\n",
    "print(\"Encoded y values (train):\", y_train_enc.unique())\n",
    "print(\"Encoded y values (test):\", y_test_enc.unique())\n"
   ]
  },
  {
   "cell_type": "code",
   "execution_count": null,
   "id": "75f5f713",
   "metadata": {},
   "outputs": [
    {
     "name": "stdout",
     "output_type": "stream",
     "text": [
      "--- XGBoost (baseline) ---\n",
      "Accuracy: 0.7683\n",
      "Precision (Churn=Yes): 0.5702\n",
      "Recall    (Churn=Yes): 0.5214\n",
      "F1-score  (Churn=Yes): 0.5447\n",
      "ROC-AUC  : 0.8060\n",
      "\n",
      "Confusion Matrix:\n",
      "            Pred_No  Pred_Yes\n",
      "Actual_No       886       147\n",
      "Actual_Yes      179       195\n",
      "\n",
      "\n"
     ]
    },
    {
     "name": "stderr",
     "output_type": "stream",
     "text": [
      "d:\\desktop\\ML_project\\venv\\Lib\\site-packages\\xgboost\\training.py:183: UserWarning: [19:21:09] WARNING: C:\\actions-runner\\_work\\xgboost\\xgboost\\src\\learner.cc:738: \n",
      "Parameters: { \"use_label_encoder\" } are not used.\n",
      "\n",
      "  bst.update(dtrain, iteration=i, fobj=obj)\n"
     ]
    }
   ],
   "source": [
    "# Cell E - XGBoost baseline (with encoded target)\n",
    "from xgboost import XGBClassifier\n",
    "\n",
    "xgb = XGBClassifier(\n",
    "    n_estimators=200,\n",
    "    use_label_encoder=False,\n",
    "    eval_metric=\"logloss\",\n",
    "    random_state=42,\n",
    "    n_jobs=-1\n",
    ")\n",
    "\n",
    "# Train on encoded target\n",
    "xgb.fit(X_train_scaled, y_train_enc)\n",
    "\n",
    "# Predict (numeric output)\n",
    "y_pred_xgb = xgb.predict(X_test_scaled)\n",
    "y_proba_xgb = xgb.predict_proba(X_test_scaled)[:, 1]  # probability of churn\n",
    "\n",
    "# Convert predictions back to Yes/No for evaluation\n",
    "y_pred_labels = [\"Yes\" if p == 1 else \"No\" for p in y_pred_xgb]\n",
    "\n",
    "# Evaluate\n",
    "xgb_metrics = evaluate_model(\"XGBoost (baseline)\", y_test, y_pred_labels, y_proba_xgb)\n"
   ]
  },
  {
   "cell_type": "code",
   "execution_count": 27,
   "id": "e1fec3e8",
   "metadata": {},
   "outputs": [
    {
     "data": {
      "text/html": [
       "<div>\n",
       "<style scoped>\n",
       "    .dataframe tbody tr th:only-of-type {\n",
       "        vertical-align: middle;\n",
       "    }\n",
       "\n",
       "    .dataframe tbody tr th {\n",
       "        vertical-align: top;\n",
       "    }\n",
       "\n",
       "    .dataframe thead th {\n",
       "        text-align: right;\n",
       "    }\n",
       "</style>\n",
       "<table border=\"1\" class=\"dataframe\">\n",
       "  <thead>\n",
       "    <tr style=\"text-align: right;\">\n",
       "      <th></th>\n",
       "      <th>accuracy</th>\n",
       "      <th>precision</th>\n",
       "      <th>recall</th>\n",
       "      <th>f1</th>\n",
       "    </tr>\n",
       "    <tr>\n",
       "      <th>model</th>\n",
       "      <th></th>\n",
       "      <th></th>\n",
       "      <th></th>\n",
       "      <th></th>\n",
       "    </tr>\n",
       "  </thead>\n",
       "  <tbody>\n",
       "    <tr>\n",
       "      <th>Random Forest (baseline)</th>\n",
       "      <td>0.786780</td>\n",
       "      <td>0.622517</td>\n",
       "      <td>0.502674</td>\n",
       "      <td>0.556213</td>\n",
       "    </tr>\n",
       "    <tr>\n",
       "      <th>Random Forest (GridSearch)</th>\n",
       "      <td>0.786780</td>\n",
       "      <td>0.622517</td>\n",
       "      <td>0.502674</td>\n",
       "      <td>0.556213</td>\n",
       "    </tr>\n",
       "    <tr>\n",
       "      <th>XGBoost (baseline)</th>\n",
       "      <td>0.768301</td>\n",
       "      <td>0.570175</td>\n",
       "      <td>0.521390</td>\n",
       "      <td>0.544693</td>\n",
       "    </tr>\n",
       "  </tbody>\n",
       "</table>\n",
       "</div>"
      ],
      "text/plain": [
       "                            accuracy  precision    recall        f1\n",
       "model                                                              \n",
       "Random Forest (baseline)    0.786780   0.622517  0.502674  0.556213\n",
       "Random Forest (GridSearch)  0.786780   0.622517  0.502674  0.556213\n",
       "XGBoost (baseline)          0.768301   0.570175  0.521390  0.544693"
      ]
     },
     "metadata": {},
     "output_type": "display_data"
    }
   ],
   "source": [
    "# Cell F - Compare\n",
    "results = [rf_metrics]\n",
    "if 'rf_gs_metrics' in locals():\n",
    "    results.append(rf_gs_metrics)\n",
    "if xgb_metrics:\n",
    "    results.append(xgb_metrics)\n",
    "\n",
    "df_results = pd.DataFrame(results).set_index(\"model\")[[\"accuracy\",\"precision\",\"recall\",\"f1\"]]\n",
    "display(df_results.sort_values(by=\"f1\", ascending=False))\n"
   ]
  },
  {
   "cell_type": "markdown",
   "id": "626a9a60",
   "metadata": {},
   "source": [
    "# Task 4: Model Comparison & Recommendation\n",
    "\n",
    "### Model Performance\n",
    "- **Logistic Regression (baseline, Task 3)**: Accuracy = 0.80, Recall ≈ 0.46, F1 ≈ 0.50  \n",
    "- **Random Forest (tuned)**: Accuracy = 0.79, Precision = 0.62, Recall = 0.50, F1 = 0.56, ROC-AUC = 0.82  \n",
    "- **XGBoost (baseline)**: Accuracy = 0.77, Precision = 0.57, Recall = 0.52, F1 = 0.54, ROC-AUC = 0.81  \n",
    "\n",
    "### Business Objective\n",
    "For churn prediction, the key metric is **Recall on Churn = Yes**.  \n",
    "- Missing a churner (False Negative) is very costly, because the company loses a customer without even trying to retain them.  \n",
    "- A False Positive (flagging a safe customer as churn) only costs some marketing budget.  \n",
    "👉 Therefore, we want a model with **higher recall**, even if accuracy is slightly lower.\n",
    "\n",
    "### Recommendation\n",
    "- Logistic Regression has higher overall accuracy, but it **misses more churners**.  \n",
    "- Random Forest (tuned) and XGBoost both improve **recall** and **F1-score**, which are more important for this use-case.  \n",
    "- Between the two, **Random Forest (tuned)** gives slightly better overall balance (F1 = 0.56, ROC-AUC = 0.82).  \n",
    "\n",
    "✅ **Final Choice**: Deploy the **Random Forest model** for churn prediction at GlobalMart, since it balances accuracy and recall effectively, helping the business retain more customers.\n"
   ]
  }
 ],
 "metadata": {
  "kernelspec": {
   "display_name": "venv",
   "language": "python",
   "name": "python3"
  },
  "language_info": {
   "codemirror_mode": {
    "name": "ipython",
    "version": 3
   },
   "file_extension": ".py",
   "mimetype": "text/x-python",
   "name": "python",
   "nbconvert_exporter": "python",
   "pygments_lexer": "ipython3",
   "version": "3.13.4"
  }
 },
 "nbformat": 4,
 "nbformat_minor": 5
}
